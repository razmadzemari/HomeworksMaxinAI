{
 "cells": [
  {
   "cell_type": "code",
   "execution_count": null,
   "metadata": {},
   "outputs": [],
   "source": [
    "%load_ext autoreload\n",
    "%autoreload 2\n",
    "\n",
    "%matplotlib inline"
   ]
  },
  {
   "cell_type": "markdown",
   "metadata": {},
   "source": [
    "## Basic setup"
   ]
  },
  {
   "cell_type": "markdown",
   "metadata": {},
   "source": [
    "Create anaconda environment\n",
    "<br>\n",
    "```bash\n",
    "conda create -n ml python=3.7.4 jupyter\n",
    "```\n",
    "Install fastai library\n",
    "<br>\n",
    "```bash\n",
    "conda install -c pytorch -c fastai fastai\n",
    "```"
   ]
  },
  {
   "cell_type": "markdown",
   "metadata": {},
   "source": [
    "# Set theory basics"
   ]
  },
  {
   "cell_type": "markdown",
   "metadata": {},
   "source": [
    "#### Prove that:\n",
    "<br>\n",
    "$A \\subseteq A$ \n",
    "\n",
    "<br><font color='blue'>$\\bf{Proof}$</font>\n"
   ]
  },
  {
   "cell_type": "markdown",
   "metadata": {},
   "source": [
    "Notice that $A \\subseteq A $ is represented as $ \\forall x(\\,x \\in A  \\Rightarrow x \\in A) \\,$ . \n",
    "As a Law of Identity: $S \\Rightarrow S $ for any formula $S$. if we take $S$ as formula $x \\in A$ \n",
    "and use a rule of generalization, we conclude A $\\subseteq A$."
   ]
  },
  {
   "cell_type": "markdown",
   "metadata": {},
   "source": [
    "#### Prove that:\n",
    "<br>\n",
    "If $A \\subseteq B$ and $B \\subseteq A$ $\\to$ $A = B$ \n",
    "\n",
    "<br><font color='blue'>$\\bf{Proof}$</font>\n"
   ]
  },
  {
   "cell_type": "markdown",
   "metadata": {},
   "source": [
    "Two sets are equal  if and only if  they have the same elements. \n",
    "More formally,  for any sets $A$ and $B$,  $A = B$   if and only if    $\\forall x ( x \\in A \\Leftrightarrow x \\in B )$ . \n",
    "Assume $A \\subseteq B$ , then for every $x\\in A \\implies x\\in B $ by definiton of subset.\n",
    "\n",
    "now assume $B \\subseteq A$ , then for every $x\\in B \\implies x\\in A $  also by definiton of subset. if both assumptions hold then $\\forall x ( x \\in A \\Leftrightarrow x \\in B )$ ,Thus $x=y$"
   ]
  },
  {
   "cell_type": "markdown",
   "metadata": {},
   "source": [
    "#### Prove that:\n",
    "<br>\n",
    "if $B \\subset A$ then $A \\cap B = B$\n",
    "\n",
    "<br><font color='blue'>$\\bf{Proof}$</font>\n"
   ]
  },
  {
   "cell_type": "markdown",
   "metadata": {},
   "source": [
    " If $A = \\emptyset$ then$A \\cap B= \\emptyset$.If $A \\neq \\emptyset$ and $A \\subseteq B $ .Lets take  $ x\\in A $ then  $x\\in B $ ,\n",
    "so $ x\\in A\\cap B $ . we conclude as $ \\forall x \\in A  \\Rightarrow x \\in A \\cap B $, which is equivalent to $A \\subseteq A \\cap B  $ \n",
    "by definition of subset..\n",
    "\n",
    "On the other hand $ x\\in A \\cap B $ is equivalent to  $ x\\in A \\land x\\in B $, so $ \\forall x \\in A \\cap B \\Rightarrow x \\in A $\n",
    "which is equivalent to $A \\cap B \\subseteq  A  $ . We have shown that $A \\subseteq A \\cap B  $  and $A \\cap B \\subseteq  A  $, so  $A \\cap B = B$ "
   ]
  },
  {
   "cell_type": "markdown",
   "metadata": {},
   "source": [
    "#### Prove that:\n",
    "<br>\n",
    " $A \\cap B = B \\cap A$\n",
    "\n",
    "<br><font color='blue'>$\\bf{Proof}$</font>"
   ]
  },
  {
   "cell_type": "markdown",
   "metadata": {},
   "source": [
    " If x is any element in $A \\cap B$, then we know by definition of intersection that $x \\in A $ and $x \\in B$. Hence, $x \\in B$ and $x \\in A$, and so, $x \\in B \\cap A$. Therefore, $A \\cap B \\subseteq B \\cap A$.\n",
    "\n",
    " The reverse inclusion is again identical: if $x$ is any element of $B \\cap A$, then we know $x \\in B $ and $ x \\in A$. Hence, $x \\in A$ and $x \\in B$. This implies $x \\in A \\cap B$. Hence, $B \\cap A \\subseteq A \\cap B$.\n",
    "So, $A \\cap B = B \\cap A$. "
   ]
  },
  {
   "cell_type": "markdown",
   "metadata": {},
   "source": [
    "#### Prove that:\n",
    "<br>\n",
    "if $B \\subset A$ then $A \\cup B = A$\n",
    "\n",
    "<br><font color='blue'>$\\bf{Proof}$</font>"
   ]
  },
  {
   "cell_type": "markdown",
   "metadata": {},
   "source": [
    " I'll show $ A \\cup B=A $ by proving subsets in both directions.I'll start with $ A \\cup B \t\\subseteq A $ .\n",
    "If $x \\in A \\cup B$, then $x \\in A $ or $x \\in B$ by definition of union.By hypothesis $ B \t\\subset  A $  ,which means that $x \\in B \\Rightarrow x\\in A$ and if we look the definiton of union, we have  $x \\in A \\cup B \\Rightarrow x\\in A$ , so $ A \\cup B \t\\subseteq A $ .\n",
    "\n",
    "Next I'll show that $ A \\subseteq A \\cup B $ .\n",
    "let $x \\in A $ then $x \\in A \\cup B$ for any set $A$.Thus, $x \\in A \\Rightarrow x \\in A \\cup B$ and we have  $ A \\subseteq A \\cup B $ ."
   ]
  },
  {
   "cell_type": "markdown",
   "metadata": {},
   "source": [
    "#### Prove that:\n",
    "<br>\n",
    "$A \\cup B = B \\cup A$ \n",
    "\n",
    "<br><font color='blue'>$\\bf{Proof}$</font>"
   ]
  },
  {
   "cell_type": "markdown",
   "metadata": {},
   "source": [
    "If x is any element in $A \\cup B$, then we know by definition of union that $x \\in A $ or $x \\in B$. Hence, $x \\in B$ or $x \\in A$, and so, $x \\in B \\cup A$. Therefore, $A \\cup B \\subseteq B \\cup A$.\n",
    "\n",
    "The reverse inclusion is again identical: if $x$ is any element of $B \\cup A$, then we know $x \\in B $ or $ x \\in A$. Hence, $x \\in A$ or $x \\in B$. This implies $x \\in A \\cup B$. Hence, $B \\cup A \\subseteq A \\cup B$.\n",
    "So, $A \\cup B = B \\cup A$. "
   ]
  },
  {
   "cell_type": "markdown",
   "metadata": {},
   "source": [
    "#### Prove that:\n",
    "\n",
    "- for every injection $m:A \\to B$ and pair of functions $f, g :C \\to A$: if $m \\circ f = m \\circ g$ then $f = g$ and vice-versa\n",
    "\n",
    "<br><font color='blue'>$\\bf{Proof}$</font>"
   ]
  },
  {
   "cell_type": "markdown",
   "metadata": {},
   "source": [
    " Suppose $m:A \\to B$ is any injection , $f, g :C \\to A $   and $m \\circ f = m \\circ g$ , but  $f\\neq g$. so $\\exists x_0 \\in C $ that $f(x_0)\\neq g(x_0)$. Because of $m$ is injection $f(x_0)\\neq g(x_0) \\Rightarrow m(f(x_0))\\neq m(g(x_0))$ . We found one $x_0$ that $(m \\circ f )(x_0)\\neq (m \\circ g)(x_0)$ so $m \\circ f \\neq m \\circ g$ , a contradiction.\n",
    "\n",
    "Now Suppose $m:A \\to B$ is a monomorphism and $m(a)=m(b)$ .\n",
    "define $f:C \\to C$ with  $\\forall x\\in C (f(x) = x)$   and\n",
    "\n",
    "$ g(x) = \\begin{cases} x,  x\\neq \\mbox{ b} \\\\ a,  x=\\mbox{ b} \\end{cases}$\n",
    "\n",
    "By the definition of  $f$ and $g$ , for all $x\\neq b$ $m(f(x))=m(g(x))$ .for $x=b \\Rightarrow$ ($ m(f(b))=m(b)$ and $m(g(b))=m(a)$). Since $m(a)=m(b) \\Rightarrow m(f(b))=m(g(b))$. By the hypothesis $m:A \\to B$ is a monomorphism ,then $f(b)=g(b)$ .Again by the definition of  $f$ and $g$  $f(b)=b$ and $g(b)=a$, Thus $a=b$ and m is injection"
   ]
  },
  {
   "cell_type": "markdown",
   "metadata": {},
   "source": [
    "#### Prove that:\n",
    "- for every surjection $e:A \\to B$ and every pair of functions $f, g :B \\to C$: if $f \\circ e = g \\circ e$ then $f = g$ and vice-versa  \n",
    "\n",
    "<br><font color='blue'>$\\bf{Proof}$</font>"
   ]
  },
  {
   "cell_type": "markdown",
   "metadata": {},
   "source": [
    " Suppose $e:A \\to B$ is any surjection ,$f, g :B \\to C$, $ f\\circ e = g \\circ e$, but $f\\neq g$. so $\\exists y_0 \\in B $ that $f(y_0)\\neq g(y_0)$.Because of e is surjection , for $ y_0 \\in B  \\Rightarrow \\exists x_0 \\in A $ that $ e(x_0)=y_0$. We found one $x_0 \\in A$ that $(f \\circ e)(x_0)\\neq (g \\circ e)(x_0)$ so $f \\circ e \\neq g \\circ e$ , a contradiction.\n",
    "\n",
    " Suppose  $e:A \\to B$ is an epimorphism. define $f:B \\to {\\{0,1}\\}$ with \n",
    "\n",
    " $ f(y) = \\begin{cases} 0,  y\\in \\mbox{B} \\\\ 1,  \\mbox{ otherwise} \\end{cases}$\n",
    " and     $   g(y) = \\begin{cases} 0,  y\\in \\mbox{$im(e)$} \\\\ 1,  \\mbox{ otherwise} \\end{cases}$\n",
    "where $im(e)$  is image of function e\n",
    "\n",
    "Then for $x\\in A $ ,$ f\\circ e(x)=g \\circ e(x)=0$. From the property of epimorphism, this means that $f=g$, which is only possible if $im(e)$ is all of B.Therefore e is surjection"
   ]
  },
  {
   "cell_type": "markdown",
   "metadata": {},
   "source": [
    "#### Prove that \n",
    "\n",
    "- composition of injections is injection itself\n",
    "- composition of surjections is surjection itself\n",
    "- composition of bijections is bijection itself\n",
    "<br>\n",
    "or give a counterexamples\n",
    "\n",
    "<br><font color='blue'>$\\bf{Proof}$</font>\n"
   ]
  },
  {
   "cell_type": "markdown",
   "metadata": {},
   "source": [
    "- Suppose $f:A \\to B$  and $g :B \\to C$ are any injections. Because of f is ijection we have  any $ x_0,x_1 \\in A , x_0 \\neq x_1 \\Rightarrow f(x_0) \\neq f(x_1)$. Because of g is injection  $f(x_0),f(x_1) \\in B $ and $f(x_0) \\neq f(x_1) \\Rightarrow g(f(x_0)) \\neq g(f(x_1))$. Hense, for any $ x_0,x_1 \\in A \\Rightarrow g(f(x_0)) \\neq g(f(x_1))$. so $g \\circ f:A \\to C $ is injection<br><br>\n",
    "\n",
    "- Suppose $f:A \\to B$  and $g :B \\to C$ are any surjections. Because of g is surjection we have any $ z_0 \\in C \\Rightarrow \\exists y_0 \\in B $, $g(y_0)=z_0$.Because of f is surjection for $ y_0 \\in B \\Rightarrow  \\exists x_0 \\in A $, $f(x_0)=y_0$. Hense ,for any $z_0 \\in C \\Rightarrow  \\exists x_0 \\in A$,$g(f(x_0))=z_0$. so $g \\circ f:A \\to C $ is surjection<br><br>\n",
    "\n",
    "- bijection is a function which is both a surjection and an injection.from above proofs , if functions are injections and surjections composition is surjection and injection itself, thus composition of bijections is bijection itself\n"
   ]
  },
  {
   "cell_type": "markdown",
   "metadata": {},
   "source": [
    "#### Prove that for each set $A$:\n",
    "\n",
    "- $A \\cong A$\n",
    "- if $B \\cong A$ then $B \\cong A$ for every pair of sets $A$ and $B$\n",
    "- if $A \\cong B$ and $B \\cong C$ then $A \\cong C$ for every triplet $A$, $B$ and $C$\n",
    "\n",
    "<br><font color='blue'>$\\bf{Proof}$</font>\n"
   ]
  },
  {
   "cell_type": "markdown",
   "metadata": {},
   "source": [
    "- Identity function over any set is a bijection. let A be any set and let  $f:A \\to A$ be identity function on A. proof that f is bijective.\n",
    "Suppose $f(x)=f(y)$. then $x=y$ ,so f is injective. \n",
    "Now let $y \\in A $  if we let $x=y$ we have $f(x)=f(y)=y$.Therefore , for all $y \\in A$ there exists an $x=y \\in A$ such that $f(x)=y$  and so f is surjective. <br><br>\n",
    "- if $f:A \\to B$ is bijection then $f^{-1}:B \\to A$ is also a bijection.\n",
    "injection : $f^{−1}(x)=f^{−1}(y) \\Rightarrow f(f^{−1}(x))=f(f^{−1}(y)) \\Rightarrow x=y$ .\n",
    "surjection :  Let $a \\in A$, then $f^{−1}(f(a))=a$ .<br><br>\n",
    "- Suppose $f:A \\to B$  and $g:B \\to C$ are bijections.There exists function $g \\circ f:A \\to C$ which is also bijection according to the previuos proofs.\n"
   ]
  },
  {
   "cell_type": "markdown",
   "metadata": {},
   "source": [
    "#### Prove that:\n",
    "<br>\n",
    "there exists a bijection between set of natural and even numbers\n",
    "\n",
    "<br><font color='blue'>$\\bf{Proof}$</font>\n"
   ]
  },
  {
   "cell_type": "markdown",
   "metadata": {},
   "source": [
    "bijection between $\\mathbb{N}$ and the set of all even integers\n",
    "$f(n) = \\begin{cases} -n, & \\mbox{if } n\\mbox{ is even} \\\\ n+1, & \\mbox{if } n\\mbox{ is odd} \\end{cases}$\n",
    "where $ n \\in \\mathbb{N}$"
   ]
  },
  {
   "cell_type": "markdown",
   "metadata": {},
   "source": [
    "#### Prove that:\n",
    "<br>\n",
    "if we have a bijection between two finite sets than they have an equal number of elements\n",
    "\n",
    "<br><font color='blue'>$\\bf{Proof}$</font>\n"
   ]
  },
  {
   "cell_type": "markdown",
   "metadata": {},
   "source": [
    "\n",
    "$|X|=n $ (number of elements is X) means the X can be expressed as $X={\\{x1,....,xn}\\}$ and $|Y|=m$ means that Y can be expressed as $Y={\\{y_1,...,y_m}\\}$.\n",
    "\n",
    "$f:X \\to Y$ is a bijection means that for every $y \\in Y$ there is an $x\\in X$ so that f$(x)=y$ and furthermore that x is unique. \n",
    "\n",
    "If $n=0$ then X is the empty set. For every $y \\in Y $ there is an $x \\in X $ so that $f(x)=y$ but that can't be true as there are no $x\\in X$ so there can't be any $y \\in Y$. So Y is the empty set and $m=0$.\n",
    "\n",
    "If $n=1$ , then $X={\\{x_1}\\}$. There is an $y=f(x_1)$. Let's call that $y_1$ so $|Y|=m\\geqslant 1$. And if there is a second $w\\neq y$ then there is an $x\\neq x_1 \\in X$. But there isn't. So $Y={\\{y1}\\}={\\{f(y_1)}\\}$ and $|Y|=m=1$.\n",
    "\n",
    "Suppose $|X|=n$ and there being a bijection to Y means $|Y|=n.$\n",
    "\n",
    "Then suppose $|X|=n+1$ and $X={\\{1,.....,x_{n+1}}\\}$. $f:X \\to Y$ is a bijection. Define $X'={\\{x_1,....,x_n}\\}$ and let $Y'={\\{f(x_1),.....f(x_n)}\\}$. Let $f':X'\\to Y'$ be defined as $f'(x)=f(x)$.\n",
    "\n",
    "$f$ is bijection. (For every $y=f(x_i)\\in Y'$ then $x_i \\in X'$and is distinct.) So $|Y'|=n$.\n",
    "\n",
    "Now let consider the set $Y''=Y\t\\setminus Y'={\\{y\\in Y|y\\notin Y''}\\}$. Now maybe $Y''$ has one element. \n",
    "\n",
    "Since $f(x_{n+1})\\in Y''$ so $Y''$ is not empty. And if $y\\in Y''$ then there is an $x\\in X$ so that $f(x)=y$ but $x \\notin X''$  because if $x\\in X''$ then $f(x)\\in Y'$. But the only $x\\in X$ but not in $X''$ is $x_{n+1}$. So $y=f(x_{n+1})$ and $Y''={f(x_{n+1})}$ and \n",
    "$Y={\\{f(x_1),f(x_2)....,f(x_{n+1})}\\}$ and $|Y|=n+1$."
   ]
  },
  {
   "cell_type": "markdown",
   "metadata": {},
   "source": [
    "#### Prove that:\n",
    "<br>\n",
    "$A \\times B \\cong B \\times A$\n",
    " \n",
    " <br><font color='blue'>$\\bf{Proof}$</font>"
   ]
  },
  {
   "cell_type": "markdown",
   "metadata": {},
   "source": [
    "$A\\times B=\\{ (a,b) : a \\in A$ and $b \\in B\\}$\n",
    "\n",
    "$g(A\\times B)=\\{g((a,b)):a \\in A$ and $b \\in B \\}={\\{(b,a):(b,a) \\in B\\times A}\\}=B\\times A.$"
   ]
  },
  {
   "cell_type": "markdown",
   "metadata": {},
   "source": [
    "$\\cap_{i\\in I}A_i$ and $\\cup_{i\\in I}A_i$\n",
    "\n",
    "<br><font color='blue'>$\\textbf{Union}$</font>"
   ]
  },
  {
   "cell_type": "code",
   "execution_count": 23,
   "metadata": {},
   "outputs": [
    {
     "name": "stdout",
     "output_type": "stream",
     "text": [
      "['2', '11', '3', '5', '1']\n"
     ]
    }
   ],
   "source": [
    "from itertools import chain\n",
    "\n",
    "l=[['1','2','2','3'],['2','3','5'],['1','2'],['2','2','11']]\n",
    "SetsUnion=list(set(chain.from_iterable(l)))\n",
    "print(SetsUnion)"
   ]
  },
  {
   "cell_type": "markdown",
   "metadata": {},
   "source": [
    "<font color='blue'>$\\textbf{Intersection}$</font>"
   ]
  },
  {
   "cell_type": "code",
   "execution_count": 22,
   "metadata": {},
   "outputs": [
    {
     "name": "stdout",
     "output_type": "stream",
     "text": [
      "['2']\n"
     ]
    }
   ],
   "source": [
    "SetsInters=list(set.intersection(*map(set,l)))\n",
    "print(SetsInters)"
   ]
  },
  {
   "cell_type": "markdown",
   "metadata": {},
   "source": [
    "We can also define cartesian product of any \"number\" of sets $\\prod_{i \\in I}{A_i}$\n",
    "\n",
    "<br><font color='blue'>$\\textbf{Cartesian Product}$</font>"
   ]
  },
  {
   "cell_type": "code",
   "execution_count": 16,
   "metadata": {},
   "outputs": [
    {
     "name": "stdout",
     "output_type": "stream",
     "text": [
      "('1', '2', '1')\n",
      "('1', '3', '1')\n",
      "('1', '5', '1')\n",
      "('2', '2', '1')\n",
      "('2', '3', '1')\n",
      "('2', '5', '1')\n",
      "('2', '2', '1')\n",
      "('2', '3', '1')\n",
      "('2', '5', '1')\n",
      "('3', '2', '1')\n",
      "('3', '3', '1')\n",
      "('3', '5', '1')\n"
     ]
    }
   ],
   "source": [
    "import itertools\n",
    "\n",
    "m=[['1','2','2','3'],['2','3','5'],['1']]\n",
    "\n",
    "for element in itertools.product(*m): print(element)\n"
   ]
  },
  {
   "cell_type": "markdown",
   "metadata": {},
   "source": [
    "#### Prove that:\n",
    "<br>\n",
    "$$A \\cap (B \\cup C)=(A \\cap B) \\cup (A\\cap C)$$\n",
    "\n",
    "<br><font color='blue'>$\\bf{Proof}$</font>\n"
   ]
  },
  {
   "cell_type": "markdown",
   "metadata": {},
   "source": [
    "if $ A\t\\subseteq B $ and $B \\supseteq A \\implies A=B$.\n",
    "\n",
    "Let $x \\in A \\cap (B \\cup C) \\Rightarrow x \\in  A$ and \n",
    "$x \\in (B \\cup C) \\Rightarrow x \\in  A$ and $( x \\in B$ or $x \\in C) \\Rightarrow (x \\in A $ and $x \\in B)$ or $(x \\in A $ and $x \\in C) \\Rightarrow x \\in (A \\cap B) \\cup (A \\cap C)$. Thus $ A \\cap (B \\cup C)\\subseteq(A \\cap B) \\cup (A\\cap C)$\n",
    "\n",
    "Let $y \\in (A \\cap B) \\cup (A\\cap C) \\Rightarrow (y \\in (A \\cap B)$ or $y \\in (A \\cap C))\\Rightarrow (( y \\in A $ and $ y\\in B)$ or $( y \\in A $ and $ y\\in C))\\Rightarrow ( y\\in A $ and $(y \\in B $ or $ y \\in C))\\Rightarrow  y\\in A $ and $ y \\in (B \\cup C) \\Rightarrow y \\in A \\cap(B \\cup C) $.Thus $ A \\cap (B \\cup C) \\supseteq (A \\cap B) \\cup (A\\cap C)$"
   ]
  },
  {
   "cell_type": "markdown",
   "metadata": {},
   "source": [
    "#### Prove that:\n",
    "<br>$$A \\cup (B \\cap C)=(A \\cup B) \\cap (A\\cup C)$$\n",
    "\n",
    "<br><font color='blue'>$\\bf{Proof}$</font>"
   ]
  },
  {
   "cell_type": "markdown",
   "metadata": {},
   "source": [
    "Let $x \\in A \\cup (B \\cap C) \\Rightarrow x \\in  A$ or\n",
    "$x \\in (B \\cap C) \\Rightarrow x \\in  A$ or $( x \\in B$ and $x \\in C) \\Rightarrow (x \\in A $ or $x \\in B)$ and $(x \\in A $ or $x \\in C) \\Rightarrow x \\in (A \\cup B) \\cap (A \\cup C)$. Thus $ A \\cup (B \\cap C)\\subseteq(A \\cup B) \\cap (A\\cup C)$\n",
    "\n",
    "Let $y \\in (A \\cup B) \\cap (A\\cup C) \\Rightarrow (y \\in (A \\cup B)$ and $y \\in (A \\cup C))\\Rightarrow (( y \\in A $ or $ y\\in B)$ and $( y \\in A $ or $ y\\in C))\\Rightarrow ( y\\in A $ or $(y \\in B $ and $ y \\in C))\\Rightarrow  y\\in A $ or $ y \\in (B \\cap C) \\Rightarrow y \\in A \\cup(B \\cap C) $.Thus $ A \\cup (B \\cap C) \\supseteq (A \\cup B) \\cap (A\\cup C)$"
   ]
  },
  {
   "cell_type": "markdown",
   "metadata": {},
   "source": [
    "# Linear Algebra"
   ]
  },
  {
   "cell_type": "markdown",
   "metadata": {},
   "source": [
    "#### Prove that:\n",
    "<br>\n",
    "$(AB)^{T} = B^{T}A^{T}$ for each pair of matrices $A, B \\in \\mathbb{R}^{n \\times m}$\n",
    "\n",
    "<br><font color='blue'>$\\bf{Proof}$</font>"
   ]
  },
  {
   "cell_type": "markdown",
   "metadata": {},
   "source": [
    "It follows from the formulas\n",
    "$(ab)^{T}_{ki}=ab_{ik}=\\sum_{j=1}^{n}a_{ij} b_{jk}$ and \n",
    "\n",
    "$(b^Ta^T)_{ki}=\\sum_{j=1}^{n}b^T_{kj}a^T_{ji}=\\sum_{j=1}^{n}b_{jk}a_{ij}=\\sum_{j=1}^{n}a_{ij}b_{jk}$\n"
   ]
  },
  {
   "cell_type": "markdown",
   "metadata": {},
   "source": [
    "## Functions on tensors"
   ]
  },
  {
   "cell_type": "markdown",
   "metadata": {},
   "source": [
    "#### Write combination for $XOR$ calculation<br>$\\rule{4cm}{0.4pt}$"
   ]
  },
  {
   "cell_type": "code",
   "execution_count": null,
   "metadata": {},
   "outputs": [],
   "source": []
  }
 ],
 "metadata": {
  "kernelspec": {
   "display_name": "Python 3",
   "language": "python",
   "name": "python3"
  },
  "language_info": {
   "codemirror_mode": {
    "name": "ipython",
    "version": 3
   },
   "file_extension": ".py",
   "mimetype": "text/x-python",
   "name": "python",
   "nbconvert_exporter": "python",
   "pygments_lexer": "ipython3",
   "version": "3.7.1"
  }
 },
 "nbformat": 4,
 "nbformat_minor": 4
}
