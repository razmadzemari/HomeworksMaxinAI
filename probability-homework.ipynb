{
 "cells": [
  {
   "cell_type": "code",
   "execution_count": null,
   "metadata": {},
   "outputs": [],
   "source": [
    "%load_ext autoreload\n",
    "%autoreload 2\n",
    "\n",
    "%matplotlib inline"
   ]
  },
  {
   "cell_type": "markdown",
   "metadata": {},
   "source": [
    "## Basic setup"
   ]
  },
  {
   "cell_type": "markdown",
   "metadata": {},
   "source": [
    "Create anaconda environment\n",
    "<br>\n",
    "```bash\n",
    "conda create -n ml python=3.7.4 jupyter\n",
    "```\n",
    "Install fastai library\n",
    "<br>\n",
    "```bash\n",
    "conda install -c pytorch -c fastai fastai\n",
    "```"
   ]
  },
  {
   "cell_type": "markdown",
   "metadata": {},
   "source": [
    "# Sigma-algebras"
   ]
  },
  {
   "cell_type": "markdown",
   "metadata": {},
   "source": [
    "#### Prove that:\n",
    "Composition of mesurable functions is a mesurable function\n",
    "\n",
    "<br><font color='blue'>$\\bf{Proof}$</font>"
   ]
  },
  {
   "cell_type": "markdown",
   "metadata": {},
   "source": [
    "The function $f:(X, \\mathcal{F}_X) \\to (Y, \\mathcal{F}_Y)$ between two mesurable spaces is called mesurable function if for every $F \\in \\mathcal{F}_Y$ the set $f^{-1}(F) \\in \\mathcal{F}_X$\n",
    "\n",
    "let $(X,\\mathcal{F}_X),(Y,\\mathcal{F}_Y),(Z,\\mathcal{F}_Z)$ be three measurable spaces and $f:X\\to Y$ and $g:Y\\to Z$ measurable functions.If $F\\in \\mathcal{F}_Z$, then , by measurability of $g$ we have : $g^{-1}(F)\\in \\mathcal{F}_Y$ and by measurability of $f$ we have $f^{-1}(g^{−1}(F))\\in \\mathcal{F}_X$. Since $(g\\circ f)^{−1}(F)=f^{−1}(g^{−1}(F))$ we have :\n",
    "$\\forall F \\in \\mathcal{F}_Z (g\\circ f)^{−1}(F)\\in \\mathcal{F}_X$.\n",
    "\n",
    "Therefore $g\\circ f$ is measurable."
   ]
  },
  {
   "cell_type": "markdown",
   "metadata": {},
   "source": [
    "## Mesure"
   ]
  },
  {
   "cell_type": "markdown",
   "metadata": {},
   "source": [
    "#### Prove the following mesure properties:\n",
    "- if $A \\subset B$ then $\\mu(A) \\le \\mu(B)$\n",
    "<br>\n",
    "Proof: $(B - A) \\cup (A \\cap B) = (B - A) \\cup A = B$ and $(B - A) \\cap (A \\cap B) = \\emptyset$ so $\\mu((B - A) \\cup (A \\cap B)) = \\mu(B - A) + \\mu(A \\cap B) = \\mu(B - A) + \\mu(A) = \\mu(B)$ so $\\mu(A) \\le \\mu(B)$"
   ]
  },
  {
   "cell_type": "markdown",
   "metadata": {},
   "source": [
    "## Probability"
   ]
  },
  {
   "cell_type": "markdown",
   "metadata": {},
   "source": [
    "#### Prove that:\n",
    "For probability mesure $P$ and events $A, B, C \\subset \\Omega$\n",
    "- $P(A \\cup B) = P(A) + P(B) - P(A \\cap B)$\n",
    "\n",
    "<br><font color='blue'>$\\bf{Proof}$</font>"
   ]
  },
  {
   "cell_type": "markdown",
   "metadata": {},
   "source": [
    "$A \\cup B=A \\cup (B \\cap A^c)$ .so $ A \\cup B$ can be expressed as union of two disjoint sets.Therefore according to axiom :\n",
    "$P(A \\cup B)=P(A)+P(B \\cap A^c )    (*) $  \n",
    "\n",
    "$B=B \\cap (A \\cap A^c)=(B \\cap A) \\cup (B \\cap A^c) \\Rightarrow P(B)=P(B \\cap A) + P(B \\cap A^c) \\Rightarrow P(B \\cap A^c)= P(B)-P(B \\cap A)   (**)$  \n",
    "\n",
    "$(**)$ equation in $(*)  \\Rightarrow P(A \\cup B) = P(A) + P(B) - P(A \\cap B)$"
   ]
  },
  {
   "cell_type": "markdown",
   "metadata": {},
   "source": [
    "## Random variable"
   ]
  },
  {
   "cell_type": "markdown",
   "metadata": {},
   "source": [
    "#### Prove that:\n",
    "$$\n",
    "\\sigma^2 = \\operatorname{E}[X^2] - (\\operatorname{E}[X])^2\n",
    "$$\n",
    "Assuming that expectation exists\n",
    "<br>\n",
    "Denoted by $\\sigma^2$\n",
    "\n",
    "<br><font color='blue'>$\\bf{Proof}$</font>"
   ]
  },
  {
   "cell_type": "markdown",
   "metadata": {},
   "source": [
    "$\\sigma^2 = \\operatorname{E}[(X-\\operatorname{E}[X])^2]=\\operatorname{E}[X^2 -2 X \\operatorname{E}[X] +(\\operatorname{E}[X])^2 ]=\\operatorname{E}[X^2]-2(\\operatorname{E}[X])^2 + (\\operatorname{E}[X])^2 =\\operatorname{E}[X^2] - (\\operatorname{E}[X])^2$\n",
    "\n",
    "Since $(\\operatorname{E}[X])=C=const$ and $(\\operatorname{E}[CX])=C (\\operatorname{E}[X])$"
   ]
  }
 ],
 "metadata": {
  "kernelspec": {
   "display_name": "Python 3",
   "language": "python",
   "name": "python3"
  },
  "language_info": {
   "codemirror_mode": {
    "name": "ipython",
    "version": 3
   },
   "file_extension": ".py",
   "mimetype": "text/x-python",
   "name": "python",
   "nbconvert_exporter": "python",
   "pygments_lexer": "ipython3",
   "version": "3.7.1"
  }
 },
 "nbformat": 4,
 "nbformat_minor": 4
}
