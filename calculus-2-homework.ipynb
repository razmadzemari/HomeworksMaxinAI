{
 "cells": [
  {
   "cell_type": "code",
   "execution_count": null,
   "metadata": {},
   "outputs": [],
   "source": [
    "%load_ext autoreload\n",
    "%autoreload 2\n",
    "\n",
    "%matplotlib inline"
   ]
  },
  {
   "cell_type": "markdown",
   "metadata": {},
   "source": [
    "## Basic setup"
   ]
  },
  {
   "cell_type": "markdown",
   "metadata": {},
   "source": [
    "Create anaconda environment\n",
    "<br>\n",
    "```bash\n",
    "conda create -n ml python=3.7.4 jupyter\n",
    "```\n",
    "Install fastai library\n",
    "<br>\n",
    "```bash\n",
    "conda install -c pytorch -c fastai fastai\n",
    "```"
   ]
  },
  {
   "cell_type": "markdown",
   "metadata": {},
   "source": [
    "# Derivatives"
   ]
  },
  {
   "cell_type": "markdown",
   "metadata": {},
   "source": [
    "#### Example:\n",
    "$$f(x,y) = \\begin{cases}x & \\text{if }y \\ne x^2 \\\\ 0 & \\text{if }y = x^2\\end{cases}$$"
   ]
  },
  {
   "cell_type": "markdown",
   "metadata": {},
   "source": [
    "<br><font color='blue'>$\\bf{Proof}$</font>"
   ]
  },
  {
   "cell_type": "markdown",
   "metadata": {},
   "source": [
    "#### Partial derivatives exist :\n",
    "    \n",
    "$f(x,0)=x$ for all $x$ (including $x=0$)  so $f'_{x}(x,0)=\\frac{d}{dx}x=1$ for all $x$.In particular $A=f'_{x}(0,0)=1$\n",
    "\n",
    "$f(0,y)=0$ for all $y$ (including $y=0$) so $f'_{y}(0,y)=\\frac{d}{dy}0=0$ for all $y$. In particular $B=f'_{y}(0,0)=0$\n",
    "\n",
    "#### $f$ is not differenciable at the origin :\n",
    "\n",
    "By definition of differenciability\n",
    "\n",
    "$$\\lim_{(x,y)\\to(0,0)} \\frac{f(x,y)-f(0,0)-\\frac{\\partial f(0,0)}{\\partial x}x -\\frac{\\partial f(0,0)}{\\partial y}y}{\\parallel(x,y)-(0,0)\\parallel}=\\lim_{(x,y)\\to(0,0)} \\frac{f(x,y)-f(0,0)-Ax -By}{\\sqrt{x^2+y^2}}=\\lim_{(x,y)\\to(0,0)} \\frac{f(x,y)-x }{\\sqrt{x^2+y^2}}$$\n",
    "\n",
    "$$\\frac{f(x,y)-x }{\\sqrt{x^2+y^2}}=\\begin{cases}\\frac{-x}{\\sqrt{x^2+y^2}} & \\text{if }y = x^2 \\\\ 0 & \\text{if }y \\neq x^2\\end{cases}$$\n",
    "\n",
    "Thus doesn't tend to 0 when $(x,y)\\to (0,0)$. For example let take a curve $y=x^2$ . along this curve \n",
    "\n",
    "$$\\frac{-x }{\\sqrt{x^2+x^2}}=\\frac{\\pm 1}{\\sqrt 2}$$.\n",
    "\n",
    "Hence $f$ is not differenciable in $(0,0)$"
   ]
  },
  {
   "cell_type": "markdown",
   "metadata": {},
   "source": [
    "#### Example:\n",
    "$$f(x,y) = \\begin{cases}y^3/(x^2+y^2) & \\text{if }(x,y) \\ne (0,0) \\\\ 0 & \\text{if }(x,y) = (0,0)\\end{cases}$$"
   ]
  },
  {
   "cell_type": "markdown",
   "metadata": {},
   "source": [
    "<br><font color='blue'>$\\bf{Proof}$</font>"
   ]
  },
  {
   "cell_type": "markdown",
   "metadata": {},
   "source": [
    "#### Partial derivatives exist :\n",
    "    \n",
    "$$f_{x}(0,0)=\\lim_{h\\to 0} \\frac{f(0+h,0)-f(0,0) }{h}=\\lim_{h\\to 0} \\frac{0}{h}=0$$\n",
    "\n",
    "\n",
    "$$f_{y}(0,0)=\\lim_{h\\to 0} \\frac{f(0,0+h)-f(0,0) }{h}=\\lim_{h\\to 0} \\frac{h}{h}=1$$\n",
    "\n",
    "\n",
    "#### $f$ is not differenciable at the origin :\n",
    "\n",
    "By definition of differenciability\n",
    "\n",
    "$$\\lim_{(x,y)\\to(0,0)} \\frac{f(x,y)-f(0,0)-\\frac{\\partial f(0,0)}{\\partial x}x -\\frac{\\partial f(0,0)}{\\partial y}y}{\\parallel(x,y)-(0,0)\\parallel}=\\lim_{(x,y)\\to(0,0)} \\frac{f(x,y)-f(0,0)-Ax -By}{\\sqrt{x^2+y^2}}=\\lim_{(x,y)\\to(0,0)} \\frac{f(x,y)-y }{\\sqrt{x^2+y^2}}$$\n",
    "\n",
    "$$\\frac{f(x,y)-x }{\\sqrt{x^2+y^2}}=\\begin{cases}\\frac{y^3-x^2y-y^3}{{(x^2+y^2)}^{3/2}} & \\text{if }(x,y) \\neq (0,0) \\\\ 0 & \\text{if }(x,y) = (0,0)\\end{cases}$$\n",
    "\n",
    "Thus doesn't tend to 0 when $(x,y)\\to (0,0)$. For example let take a curve $y=x$ . along this curve \n",
    "\n",
    "$$\\frac{x^3-x^3-x^3 }{{(x^2+x^2)}^{3/2}}=\\frac{\\pm 1}{2\\sqrt 2}$$.\n",
    "\n",
    "Hence $f$ is not differenciable in $(0,0)$\n"
   ]
  },
  {
   "cell_type": "code",
   "execution_count": null,
   "metadata": {},
   "outputs": [],
   "source": []
  }
 ],
 "metadata": {
  "kernelspec": {
   "display_name": "Python 3",
   "language": "python",
   "name": "python3"
  },
  "language_info": {
   "codemirror_mode": {
    "name": "ipython",
    "version": 3
   },
   "file_extension": ".py",
   "mimetype": "text/x-python",
   "name": "python",
   "nbconvert_exporter": "python",
   "pygments_lexer": "ipython3",
   "version": "3.7.1"
  }
 },
 "nbformat": 4,
 "nbformat_minor": 4
}
