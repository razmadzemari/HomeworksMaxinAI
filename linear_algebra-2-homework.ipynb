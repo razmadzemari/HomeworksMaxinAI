{
 "cells": [
  {
   "cell_type": "code",
   "execution_count": null,
   "metadata": {},
   "outputs": [],
   "source": [
    "%load_ext autoreload\n",
    "%autoreload 2\n",
    "\n",
    "%matplotlib inline"
   ]
  },
  {
   "cell_type": "markdown",
   "metadata": {},
   "source": [
    "## Basic setup"
   ]
  },
  {
   "cell_type": "markdown",
   "metadata": {},
   "source": [
    "Create anaconda environment\n",
    "<br>\n",
    "```bash\n",
    "conda create -n ml python=3.7.4 jupyter\n",
    "```\n",
    "Install fastai library\n",
    "<br>\n",
    "```bash\n",
    "conda install -c pytorch -c fastai fastai\n",
    "```"
   ]
  },
  {
   "cell_type": "markdown",
   "metadata": {},
   "source": [
    "# Linear spaces"
   ]
  },
  {
   "cell_type": "markdown",
   "metadata": {},
   "source": [
    "#### Prove that:\n",
    "For every linear function $f:V \\to U$ between vector spaces $V$ and $U$ on the real numbers, every sequence of vectors $v_1, v_2, \\dots v_m \\in V$ and every scalars $a_1, a_2, \\dots, a_m \\in \\mathbb{R}$:\n",
    "<br>\n",
    "$$f(a_1v_1 + a_2v_2 + \\dots + a_mv_m) = a_1f(v_1) + a_2f(v_2) + \\dots + a_mf(v_m)$$\n",
    "\n",
    "<br><font color='blue'>$\\bf{Proof}$</font>"
   ]
  },
  {
   "cell_type": "markdown",
   "metadata": {},
   "source": [
    "A function $f:V\\to U$ is said to be a linear map if for any two vectors $\\mathbf {u} ,\\mathbf {v} \\in V$ and any scalar $ c\\in \\mathbf {K} $ the following two conditions are satisfied:\n",
    "\n",
    "- $ f(\\mathbf {u} +\\mathbf {v} )=f(\\mathbf {u} )+f(\\mathbf {v}) $ \n",
    "\n",
    "- $ f(c\\mathbf {u} )=cf(\\mathbf {u} )$ \n",
    "\n",
    "proof by trivial induction .\n",
    "\n",
    "the first condition : $$f(a_1v_1 + a_2v_2 + \\dots + a_mv_m) = f(a_1v_1) + f(a_2v_2) + \\dots + f(a_mv_m) $$\n",
    "\n",
    "by the second condition : $$= a_1f(v_1) + a_2f(v_2) + \\dots + a_mf(v_m)$$\n",
    "\n"
   ]
  },
  {
   "cell_type": "code",
   "execution_count": null,
   "metadata": {},
   "outputs": [],
   "source": []
  }
 ],
 "metadata": {
  "kernelspec": {
   "display_name": "Python 3",
   "language": "python",
   "name": "python3"
  },
  "language_info": {
   "codemirror_mode": {
    "name": "ipython",
    "version": 3
   },
   "file_extension": ".py",
   "mimetype": "text/x-python",
   "name": "python",
   "nbconvert_exporter": "python",
   "pygments_lexer": "ipython3",
   "version": "3.7.1"
  }
 },
 "nbformat": 4,
 "nbformat_minor": 4
}
