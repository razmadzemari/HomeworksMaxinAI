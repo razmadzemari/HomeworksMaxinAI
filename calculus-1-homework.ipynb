{
 "cells": [
  {
   "cell_type": "code",
   "execution_count": null,
   "metadata": {},
   "outputs": [],
   "source": [
    "%load_ext autoreload\n",
    "%autoreload 2\n",
    "\n",
    "%matplotlib inline"
   ]
  },
  {
   "cell_type": "markdown",
   "metadata": {},
   "source": [
    "## Basic setup"
   ]
  },
  {
   "cell_type": "markdown",
   "metadata": {},
   "source": [
    "Create anaconda environment\n",
    "<br>\n",
    "```bash\n",
    "conda create -n ml python=3.7.4 jupyter\n",
    "```\n",
    "Install fastai library\n",
    "<br>\n",
    "```bash\n",
    "conda install -c pytorch -c fastai fastai\n",
    "```"
   ]
  },
  {
   "cell_type": "code",
   "execution_count": null,
   "metadata": {},
   "outputs": [],
   "source": [
    "!pip install https://github.com/ipython-contrib/jupyter_contrib_nbextensions/tarball/master\n",
    "!pip install jupyter_nbextensions_configurator\n",
    "!jupyter contrib nbextension install --user\n",
    "!jupyter nbextensions_configurator enable --user"
   ]
  },
  {
   "cell_type": "markdown",
   "metadata": {},
   "source": [
    "# Metric spaces"
   ]
  },
  {
   "cell_type": "markdown",
   "metadata": {},
   "source": [
    "#### Prove that:\n",
    "For every metric space (X, d):\n",
    "- For eny $\\mathcal{U} = \\{U | U$ is open in $(X, d)\\}$ holds $\\bigcup_{U \\in \\mathcal{U}} U$ is open in $(X, d)$\n",
    "- For eny two $U, V \\subset X$ open in $(X, d)$ holds: $U \\cap V$ is open in $(X, d)$\n",
    "- $X$ is open in $(X, d)$\n",
    "- $\\emptyset$ is open in $(X, d)$\n",
    "\n",
    "\n",
    "<br><font color='blue'>$\\bf{Proof}$</font>\n",
    " \n",
    " "
   ]
  },
  {
   "cell_type": "markdown",
   "metadata": {},
   "source": [
    "- Suppose ${U_i\n",
    ": i \\in I}$ is a collection of open sets, indexed by I, and\n",
    "let $U = \\bigcup_{i\\in I} U_i$\n",
    ". Let $x \\in U$ be arbitrary. Then x belongs to at least one of\n",
    "the sets $U_i$\n",
    ". Since this $U_i$ set is open, it contains an open ball about x.\n",
    "this ball lies in U. But $x \\in$ U was chosen arbitrarily.Thus,U is open.<br><br>\n",
    "\n",
    "- proof by contradiction:  Lets assume $𝑈,𝑉 \\subset 𝑋$ are open in  $(𝑋,𝑑)$ but $𝑈 \\cap 𝑉$ is not open. Since $𝑈 \\cap 𝑉$ is not open\n",
    "    ,there exists $x \\in 𝑈 \\cap 𝑉$ such that x is on the boundary of $𝑈 \\cap 𝑉$.This implies x is on boundary of U or V, but since both  U and V are open set \n",
    "    and every x element in U and V are interiors,this is a contradiction<br><br>\n",
    "    \n",
    "- Let $x\\in X$. To show X is open in X, we need to show there is at least one $\\varepsilon>0$ such that the ball $B(x,\\varepsilon)$ with center x and radius $\\varepsilon$ is contained in X. Note that by definition,\n",
    "$B(x,\\varepsilon)={y∈X:d(x,y)<\\varepsilon}$\n",
    "so $B(x,\\varepsilon)$ is always a subset of X, for any choice of ϵ whatsoever. Thus, X is open in X.<br><br>\n",
    "\n",
    "- By definition an open set is one where for every point exists open ball which is also entirely contained within set. \n",
    "Since there are no elements in empty set, there is no element to prove the opposite. ( false $\\Rightarrow A $ ) is True for any A."
   ]
  },
  {
   "cell_type": "markdown",
   "metadata": {},
   "source": [
    "#### Prove that:\n",
    "- For eny finity set $(U)_{i=1}^{n}$ of open sets in $(X, d)$, $\\bigcap_{i=1}^{n}U$ is open in $(X, d)$ \n",
    "\n",
    "<br><font color='blue'>$\\bf{Proof}$</font>"
   ]
  },
  {
   "cell_type": "markdown",
   "metadata": {},
   "source": [
    "Let $x\\in \\bigcap_{i=1}^n U_i$.\n",
    "\n",
    "For each $i\\in [1..n]$, we have $x\\in U_i$ .Thus: $\\exists \\varepsilon_i>0 : B_{\\varepsilon_i}(x)\\subseteq U_i $ ,where $B_{\\varepsilon_i}(x)$ is the open $\\varepsilon_i$ -ball of x.\n",
    "\n",
    "Now let $\\varepsilon=min_{i=1}^n\\varepsilon_i$. Then: $B_{\\varepsilon}(x)\\subseteq B_{\\varepsilon_i}(x)\\subseteq U_i$ for all $i\\in [1..n]$.\n",
    "So: $B_{\\varepsilon}(x)\\subseteq \\bigcap_{i=1}^n U_i$."
   ]
  },
  {
   "cell_type": "markdown",
   "metadata": {},
   "source": [
    "#### Prove that for set $U \\subset X$ is open if and only if for each point $x \\in U$ there exists the open neighbourhood $V$ of $x$ such that $V \\subset U$ \n",
    "\n",
    "<br><font color='blue'>$\\bf{Proof}$</font>"
   ]
  },
  {
   "cell_type": "markdown",
   "metadata": {},
   "source": [
    "Take an $ x \\in U $such that for every open neighbourhood $V$ that contains $x$ we have $V \\nsubseteq U$. This means that $x$ is a limit point of $X\\setminus U$ without $x$ in $X\\setminus U$. This means that $X\\setminus U$ is not closed, so $U$ is not open."
   ]
  },
  {
   "cell_type": "markdown",
   "metadata": {},
   "source": [
    "#### Prove that, closed ball is closed subset in $(X, d)$ \n",
    "\n",
    "<br><font color='blue'>$\\bf{Proof}$</font>\n"
   ]
  },
  {
   "cell_type": "markdown",
   "metadata": {},
   "source": [
    "Suppose $B(x_0, \\varepsilon)$ is a closed ball. We need to show that $X\\setminus B(x_0,\\varepsilon)$ is open. This means that for every point $y\\in X\\setminus B(x_0,\\varepsilon)$ we need to find an open ball contained in $X \\setminus D$ with center y.\n",
    " $y \\in X\\setminus B(x_0,\\varepsilon)$, it follows that $d(y,x_0) > r$, so $d(y,x_0) - \\varepsilon > 0$. Let $\\varepsilon_1 = d(y,x_0)-\\varepsilon$.\n",
    "\n",
    "The open ball $B_1(y, \\varepsilon_1)$ is contained in $X\\setminus B(x_0,\\varepsilon)$.  consider any $z \\in B_1(y,\\varepsilon_1)$. By the triangle inequality:\n",
    "\n",
    "$d(x_0,y) \\leq d(x_0,z) + d(z,y) \\implies d(z,x_0) \\geq d(x_0,y) - d(z,y) > d(x_0,y) - \\varepsilon_1 =\\varepsilon$.\n",
    "This shows $z\\in X\\setminus B(x_0,\\varepsilon)$, this means that $B(x_0, \\varepsilon)$ is a closed ball.\n",
    "\n"
   ]
  },
  {
   "cell_type": "markdown",
   "metadata": {},
   "source": [
    "#### Prove that\n",
    "For every metric space (X, d):\n",
    "- For eny $\\mathcal{F} = \\{F | F$ is closed in $(X, d)\\}$ holds $\\bigcap_{F \\in \\mathcal{F}} F$ is closed in $(X, d)$\n",
    "- For eny two $F_1, F_2 \\subset X$ closed in $(X, d)$ holds: $F_1 \\cup F_2$ is closed in $(X, d)$\n",
    "- $X$ is closed in $(X, d)$\n",
    "- $\\emptyset$ is closed in $(X, d)$\n",
    "\n",
    "<br><font color='blue'>$\\bf{Proof}$</font>"
   ]
  },
  {
   "cell_type": "markdown",
   "metadata": {},
   "source": [
    "- Let F be any arbitrary collection of closed sets and let: $S=\\bigcap_{A\\in F}A$\n",
    "By applying the generalized De Morgan's Law, we see that the complement $S^c$ is:\n",
    "$S^c=(\\bigcap_{A\\in F}A)^c=\\bigcup_{A\\in F}A^c$\n",
    "For all $A\\in F$ we have that A is closed, so $A^c$ is open. The union of an arbitrary collection of open sets is open, so $S^c$ is open. Therefore $(S^c)^c$=S is closed. <br><br>\n",
    "- Suppose $𝑈 \\cup 𝑉$ is not closed. That means that there is some points $p\\notin 𝑈\\cup 𝑉$ every neighbourhood of which contains infinitely many points of $𝑈 \\cup 𝑉$.\n",
    "By pigeonhole principle, every such neighbourhood contains infinitely many points of at least one of U or V, say U. Then p must be a limit point of U; so $p\\in U \\subset 𝑈 \\cup 𝑉$.<br><br>\n",
    "- $\\emptyset$ is an open set of X. Therefore it's complement (that is $X\\setminus \\emptyset=X $) is closed.<br><br>\n",
    "-  X is an open set of X. Therefore it's complement (that is $X\\setminus X=\\emptyset$) is closed.\n"
   ]
  },
  {
   "cell_type": "markdown",
   "metadata": {},
   "source": [
    "#### Prove that:\n",
    "- For eny finity set $(F)_{i=1}^{n}$ of closed sets in $(X, d)$, $\\bigcup_{i=1}^{n}F$ is closed in $(X, d)$ \n",
    "\n",
    "<br><font color='blue'>$\\bf{Proof}$</font>"
   ]
  },
  {
   "cell_type": "markdown",
   "metadata": {},
   "source": [
    "Let: $S=\\bigcup_{i=1}^n A_i $\n",
    "By applying the generalized De Morgan's Law, we see that the complement $S^c$ is:\n",
    "$S^c=(\\bigcup_{i=1}^n A_i)^c=\\bigcap_{i=1}^n A_i^c$\n",
    "For each $A_i$ for $i\\in {1,2,...,n}$ we have that $A_i$ is closed, so $A_i^c$ is open. The intersection of a finite collection of open sets is open, so $S^c$ is open and hence $(S^c)^c=S$ is closed. \n",
    "Therefore $S=\\bigcup_{i=1}^n A_i $ is closed"
   ]
  },
  {
   "cell_type": "markdown",
   "metadata": {},
   "source": [
    "#### Prove that, if $F \\subset X$ is closed then $X - F$ is open in $(X, d)$  \n",
    "\n",
    "<br><font color='blue'>$\\bf{Proof}$</font>"
   ]
  },
  {
   "cell_type": "markdown",
   "metadata": {},
   "source": [
    "Suppose $F$ is closed. Then choose  any $x \\in X-F$, then $x \\notin F$, and so $x$ is not a limit point of $F$.\n",
    "\n",
    "Hence there exists a neighborhood $N$ of $x$ such that $F \\cap N$ is empty, such that $N\t\\subset X-F$. Thus x is an interior point of $X-F$ and $X-F$ is open"
   ]
  },
  {
   "cell_type": "markdown",
   "metadata": {},
   "source": [
    "# Metrics in Euclidean spaces"
   ]
  },
  {
   "cell_type": "markdown",
   "metadata": {},
   "source": [
    "#### Prove that:\n",
    "- for every $u, v \\in \\mathbb{R}^{n}$: $d(u, v) \\geq 0$\n",
    "- for every $v \\in \\mathbb{R}^{n}$: $d(v, v) = 0$\n",
    "- for every $u, v \\in \\mathbb{R}^{n}$: $d(u, v) = d(v, u)$ (symmetry)\n",
    "- for every $u, v, w \\in \\mathbb{R}^{n}$: $d(u, w) \\leq d(v, u) + d(v, w)$ (triangle inequality) \n",
    "\n",
    "<br><font color='blue'>$\\bf{Proof}$</font>"
   ]
  },
  {
   "cell_type": "markdown",
   "metadata": {},
   "source": [
    "\n",
    "- for every $u, v \\in \\mathbb{R}^{n}$  $d(u, v) = ||u-v||_2 =\\sqrt{\\sum_{i}(u_i-v_i)^2}\\geqslant 0 $ by the definition of square root .<br><br>\n",
    "- for every $u \\in \\mathbb{R}^{n}$ $d(u, u) = ||u-u||_2 =\\sqrt{\\sum_{i}(u_i-u_i)^2}= \\sqrt{\\sum_{i} \\mathbf(0)^2}=0 $<br><br>\n",
    "- for every $u, v \\in \\mathbb{R}^{n}$ $d(u, v) =||u-v||_2 =\\sqrt{\\sum_{i}(u_i-v_i)^2}=\\sqrt{\\sum_{i}(v_i-u_i)^2}= ||v-u||_2=d(v, u)$ (symmetry)<br><br>\n",
    "- Given 3 points $x, y, z \\in \\mathbb{R}^{n}$\n",
    ", let $u = x − y$ and\n",
    "$v = y−z$. Then $u+v = x−z$, so $d(x, z) = |u+v|$, $d(x, y) = |u|$, $d(y, z) = |v|$,\n",
    "therefore the triangle inequality - $d(x, z) = d(x, y) + d(y, z)$ is equivalent to\n",
    "$|u + v| ≤ |u| + |v|$ for all $u, v \\in \\mathbb{R}^{n}$.\n",
    "squaring both sides this is equivalent to\n",
    "$|u + v|^2 \\leqslant |u|^2 + 2|u||v| + |v|^2$.\n",
    "$|u + v|^2 = (u + v) · (u + v) = u · u + 2u · v + v· v \\leqslant |u|^2 + 2|u||v| + |v|^2$ , because $u · u= |u|^2$ and also $u · v \\leqslant |u||v|$ from Cauchy-Schwarz inequality  : $|u·v| \\leqslant  |u||v|$. Thus triangle inequality holds\n"
   ]
  },
  {
   "cell_type": "markdown",
   "metadata": {},
   "source": [
    "#### Prove the same properties hold for $d(u, v) = ||u-v||_1$ ($||u-v||_1 = \\sum_{i = 1}^{n}|u_i - v_i|$) \n",
    "\n",
    "<br><font color='blue'>$\\bf{Proof}$</font>"
   ]
  },
  {
   "cell_type": "markdown",
   "metadata": {},
   "source": [
    "\n",
    "- for every $u, v \\in \\mathbb{R}^{n}$  $d(u, v) = ||u-v||_1 ={\\sum_{i}|u_i-v_i|}\\geqslant 0 $ by the definition of absolute value .<br><br>\n",
    "- for every $u \\in \\mathbb{R}^{n}$ $d(u, u) = ||u-u||_1 ={\\sum_{i}|u_i-u_i|} ={\\sum_{i}|0|}=0 $<br><br>\n",
    "- for every $u, v \\in \\mathbb{R}^{n}$ $d(u, v) = ||u-v||_1 ={\\sum_{i}|u_i-v_i|}={\\sum_{i}|v_i-u_i|}= ||v-u||_1 =d(v, u)$ (symmetry)<br><br>\n",
    "- for every $u, v, w \\in \\mathbb{R}^{n}$: $d(u, w) ={\\sum_{i}|u_i-w_i|} \\leq {\\sum_{i}(|v_i-u_i|+|v_i-w_i|)}=d(v, u) + d(v, w)$\n",
    "We used the fact that $|a+b|\\leq |a|+|b|$.Lets prove it:\n",
    "Since $|a|\\geqslant a , |b|\\geqslant b$. Now,\n",
    "$a^2+b^2+2|a||b|\\geqslant a^2+b^2+2ab \\implies (|a|+|b|)^2\\geqslant(a+b)^2 \\implies|a|+|b|\\geqslant|a+b|$\n"
   ]
  },
  {
   "cell_type": "markdown",
   "metadata": {},
   "source": [
    "## Sequences and limits"
   ]
  },
  {
   "cell_type": "markdown",
   "metadata": {},
   "source": [
    "#### Prove that $x = \\lim_{n\\to\\infty}{x_n}$ in $(X, d)$ if and only if (iff) for every $r \\in \\mathbb{R}$ there exists $n_0 \\in \\mathbb{N}$ such that: $x_i \\in B(x, r)$ for every $i \\gt n_0$ <br> $\\rule{4cm}{0.4pt}$"
   ]
  },
  {
   "cell_type": "markdown",
   "metadata": {},
   "source": [
    "#### Prove that if $x = \\lim_{n\\to\\infty}{x_n}$ and $x \\notin \\{-\\infty, \\infty\\}$ then $(x_i)_{i=1}^{\\infty} = (x_1, x_2, \\dots, x_n)$ is a Cauchy sequence  \n",
    "\n",
    "<br><font color='blue'>$\\bf{Proof}$</font>\n"
   ]
  },
  {
   "cell_type": "markdown",
   "metadata": {},
   "source": [
    "Let $x_n$ be a sequence in X that converges to $x\\in X$.Let  $\\varepsilon>0$, then $\\exists N : \\forall n>N d(x_n,x)<\\frac{\\varepsilon}{2}$. So if $m>N$ and $n>N$ then $d(x_n,x_m)\\leqslant d(x_n,x)+d(x,x_m) <\\frac{\\varepsilon}{2}+\\frac{\\varepsilon}{2}=\\varepsilon$.Hense $x_n$ is a Cauchy sequence"
   ]
  },
  {
   "cell_type": "markdown",
   "metadata": {},
   "source": [
    "For closed set $F \\subset \\mathbb{R}^n$ and convergent sequence $(x_i)_{i=1}^{\\infty} = (x_1, x_2, \\dots, x_n)$ such that there exists $n_0 \\in \\mathbb{N}$ such that $x_i \\in F$ for each $i \\gt n_0$ then: $\\lim_{n\\to\\infty}{x_n} \\in F$ \n",
    "#### Prove that if $F$ is open from previous example, statement does not hold. <br> $\\rule{4cm}{0.4pt}$"
   ]
  },
  {
   "cell_type": "markdown",
   "metadata": {},
   "source": [
    "#### Prove that inherited metric is a metric <br> $\\rule{4cm}{0.4pt}$"
   ]
  },
  {
   "cell_type": "markdown",
   "metadata": {},
   "source": [
    "## Limits of functions"
   ]
  },
  {
   "cell_type": "markdown",
   "metadata": {},
   "source": [
    "Let $f:S \\to Y$ is function between subset $S \\subset X$ of a metric space $(X, d_x)$ and metric space $(Y, d_Y)$\n",
    "- We say that the limit of function $f:(S, d_x) \\to (Y, d_Y)$ between metric spaces in some limit point $c \\in X$ of the subset $S$ is $y \\in Y $if for each open neighborhood of $y \\in V \\subset Y$ there exists the open seighborhood of $c \\in U \\subset X$ such that $f(U \\cap S) \\subset V$\n",
    "<br>\n",
    "This definition is equiualent of definition:\n",
    "<br>\n",
    "- The limit of function $f:(S, d_X) \\to (Y, d_Y)$ between metric spaces in limit point $c \\in X$ of the subset $S$ is $y \\in Y $ if for each open ball $B(x, r) \\subset Y$ there exists the ball $B(c, l) \\subset X$ such that $f(B(c, l) \\cap S) \\subset B(y, r)$\n",
    "<br>\n",
    "or\n",
    "<br>\n",
    "- The limit of function $f:(S, d_X) \\to (Y, d_Y)$ between metric spaces in limit point $c \\in X$ of subset $S$ is $y \\in Y $ if for any $r \\in \\mathbb{R}$ there exists $l \\in \\mathbb{R}$ such that for every $x \\in S$ with $d_X(x, c) < l$ implies that $d_Y(f(x), y) < r$ "
   ]
  },
  {
   "cell_type": "markdown",
   "metadata": {},
   "source": [
    "#### Prove that this three definitions are equiualent for eny function between eny two metric spaces <br> $\\rule{4cm}{0.4pt}$"
   ]
  },
  {
   "cell_type": "markdown",
   "metadata": {},
   "source": [
    "## Continuous functions "
   ]
  },
  {
   "cell_type": "markdown",
   "metadata": {},
   "source": [
    "#### Prove that function is continuous in $c$ if for eny sequence $(x_n)_{n=1}^{\\infty} \\subset X$ such that $\\lim_{n \\to \\infty}x_n = c$ we have $\\lim_{n \\to \\infty}f(x_n) = f(c)$ \n",
    "\n",
    "<br><font color='blue'>$\\bf{Proof}$</font>"
   ]
  },
  {
   "cell_type": "markdown",
   "metadata": {},
   "source": [
    "Suppose for any sequence $(x_n)_{n=1}^{\\infty} \\subset X$ such that $x_n \\to c \\Rightarrow f(x_n) \\to f(c)$ ,but f is not continuous at c. then there exists $\\varepsilon>o$ such that for every $n \\in \\mathbb{N} $ there exists $x_n \\in X$ with $d(x_n,c)<\\frac{1}{n}$ and $d(f(x_n),f(c))\\geqslant \\varepsilon$ . Then $x \\to c$ but $f(x_n) \\nrightarrow f(c)$.Contradiction."
   ]
  },
  {
   "cell_type": "markdown",
   "metadata": {},
   "source": [
    "#### Prove that function is continuous if for every open set $V \\subset Y$ the $f^{-1}(V)$ is open in $X$\n",
    "\n",
    "<br><font color='blue'>$\\bf{Proof}$</font>"
   ]
  },
  {
   "cell_type": "markdown",
   "metadata": {},
   "source": [
    "Suppose that the inverse image under f of every open set is open.if $x \\in X $ and $V \\subset Y $ is a neighborhood of $f(x)$,\n",
    "then $ V \\supset W $ ,where $W$ is a neighborhood of $f(x)$.then $f^{-1}(W)$ is an open neighborhood of $x$ and $f^{-1}(W)\\subset f^{-1}(V)$ , so $f^{-1}(V)$ is a neighborhood of x,\n",
    "which shows that f is continuous"
   ]
  },
  {
   "cell_type": "markdown",
   "metadata": {},
   "source": [
    "#### Prove that function is continuous if for every closed set $F \\subset Y$ the $f^{-1}(F)$ is closed in $X$\n",
    "\n",
    "<br><font color='blue'>$\\bf{Proof}$</font>"
   ]
  },
  {
   "cell_type": "markdown",
   "metadata": {},
   "source": [
    "Suppose that the inverse image under f of every closed set is closed.Let $F$ be any open set in $Y$ , then $Y \\setminus F$ is closed.\n",
    "$f^{-1}(Y \\setminus F)=X \\setminus f{-1}(F)$. $f^{-1}(Y \\setminus F)$ is closed and so is $f^{-1}(Y \\setminus F)$ , hense $f^{-1}(F)$ is open.. The preimage of any open set is open $\\Rightarrow$ $f$ is continiuous , from previous proof.Thus, f is continiuous"
   ]
  },
  {
   "cell_type": "markdown",
   "metadata": {},
   "source": [
    "#### Prove that any composition of continous functions is continous \n",
    "\n",
    "<br><font color='blue'>$\\bf{Proof}$</font>"
   ]
  },
  {
   "cell_type": "markdown",
   "metadata": {},
   "source": [
    "Suppose that $f: X \\to Y$ and $g: Y \\to Z$  are continuous and $g \\circ f: X \\to Z$  is their composition. if $W \\subset Z $ is open , then $V=g^{-1}(W)$ is open, so $U=f^{-1}(V)$ is open.it follows that  $(g \\circ f)^{-1}(W)=f^{-1}((g^{-1}(W))$ is open, so $(g \\circ f)$ is continuous."
   ]
  }
 ],
 "metadata": {
  "kernelspec": {
   "display_name": "Python 3",
   "language": "python",
   "name": "python3"
  },
  "language_info": {
   "codemirror_mode": {
    "name": "ipython",
    "version": 3
   },
   "file_extension": ".py",
   "mimetype": "text/x-python",
   "name": "python",
   "nbconvert_exporter": "python",
   "pygments_lexer": "ipython3",
   "version": "3.7.1"
  }
 },
 "nbformat": 4,
 "nbformat_minor": 4
}
